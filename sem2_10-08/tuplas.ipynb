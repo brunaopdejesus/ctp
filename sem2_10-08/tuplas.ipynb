{
 "cells": [
  {
   "attachments": {},
   "cell_type": "markdown",
   "metadata": {},
   "source": [
    "## Tuplas\n",
    "São estruturas de dados similares às listas. A diferença se dá pelo fato dela não ser iterável, ou seja, o conteúdo dela é constante e não pode ser editado pelo programador nem pelo user. Enquanto os elemento de uma lista são delimitados entre **colchetes**, as tuplas são delimitadas entre **parênteses**"
   ]
  },
  {
   "cell_type": "code",
   "execution_count": 4,
   "metadata": {},
   "outputs": [
    {
     "name": "stdout",
     "output_type": "stream",
     "text": [
      "Lista:  [56, 'Fiap', True, 98.6]\n",
      "Tupla:  (56, 'Fiap', True, 98.6)\n",
      "posição 2 da LISTA: True\n",
      "posição 3 da TUPLA: 98.6\n"
     ]
    }
   ],
   "source": [
    "lista = [56, \"Fiap\", True, 98.6]\n",
    "tupla = (56, \"Fiap\", True, 98.6)\n",
    "print(\"Lista: \", lista)\n",
    "print(\"Tupla: \", tupla)\n",
    "\n",
    "print(f\"posição 2 da LISTA: {lista[2]}\")\n",
    "print(f\"posição 3 da TUPLA: {tupla[3]}\")\n",
    "\n",
    "l = list() # cria uma lista vazia\n",
    "t = tuple() # cria uma tupla vazia"
   ]
  },
  {
   "attachments": {},
   "cell_type": "markdown",
   "metadata": {},
   "source": [
    "**Exercícios: **<br>\n",
    "1. Inicie uma tupla com 5 valores e faça um procedimento para exibir o conteúdo desta tupla passada por um parâmetro (elemento a elemento)"
   ]
  },
  {
   "cell_type": "code",
   "execution_count": 31,
   "metadata": {},
   "outputs": [
    {
     "name": "stdout",
     "output_type": "stream",
     "text": [
      "Elemento 0: A\n",
      "Elemento 1: B\n",
      "Elemento 2: C\n",
      "\n",
      "Elemento 0: 1\n",
      "Elemento 1: 2\n",
      "Elemento 2: 3\n",
      "Elemento 3: True\n",
      "Elemento 4: AAAA\n"
     ]
    }
   ],
   "source": [
    "tupla5Valores = (\"A\", \"B\", \"C\")\n",
    "tuplaTeste = (1, 2, 3, True, \"AAAA\")\n",
    "\n",
    "def conteudoTupla(t: tuple) -> None:\n",
    "    for indice, elem in enumerate(t):\n",
    "        print(f\"Elemento {indice}: {elem}\")\n",
    "        # print(f\"{t[indice]}\")\n",
    "\n",
    "\n",
    "conteudoTupla(tupla5Valores)\n",
    "print()\n",
    "conteudoTupla(tuplaTeste)"
   ]
  },
  {
   "attachments": {},
   "cell_type": "markdown",
   "metadata": {},
   "source": [
    "**Manipulação e fatiamento de strings | listas | tuplas**<br>\n",
    "Fatiar lista é selecionar parte dela.<br>\n",
    "\n",
    "**Sintaxe:**\n",
    "```\n",
    "lista(inicio: fim: passo)\n",
    "```\n",
    "\n",
    "> **inicio** é o primeiro elemento e **fim** o último (fim não o inclui)"
   ]
  },
  {
   "cell_type": "code",
   "execution_count": 55,
   "metadata": {},
   "outputs": [
    {
     "name": "stdout",
     "output_type": "stream",
     "text": [
      "Lista completa = [10, 20, 30, 40, 50, 60, 70, 80, 90, 100]\n",
      "[40, 50, 60, 70]\n",
      "[10, 20, 30, 40, 50, 60, 70, 80, 90, 100] [40, 50, 60, 70]\n",
      "\n",
      "primeiro elemento 10 - último 100\n",
      "\n",
      "[50, 60, 70]\n"
     ]
    }
   ],
   "source": [
    "#         -10 -9  -8  -7  -6  -5  -4  -3  -2  -1     => ÍNDICES NEGATIVOS\n",
    "#          0   1   2   3   4   5   6   7   8   9     => ÍNDICES POSITIVOS\n",
    "numeros = [10, 20, 30, 40, 50, 60, 70, 80, 90, 100]\n",
    "print(f\"Lista completa = {numeros}\")\n",
    "\n",
    "#printa os número do índice 3 ao índice 7 (40,50,60,70)\n",
    "print(numeros[3:7]) # o último vai até um anterior\n",
    "\n",
    "# posso criar uma nova lista com parte da outra\n",
    "newNumeros = numeros[3:7]\n",
    "print(numeros, newNumeros)\n",
    "\n",
    "print(f\"\\nprimeiro elemento {numeros[0]} - último {numeros[-1]}\\n\")\n",
    "\n",
    "# números negativos devem ser tratados na ordem correta, menor para o maior\n",
    "print(numeros[-6: -3])\n"
   ]
  },
  {
   "cell_type": "code",
   "execution_count": 65,
   "metadata": {},
   "outputs": [
    {
     "name": "stdout",
     "output_type": "stream",
     "text": [
      "De 1 em 1, fica subentendido: [20, 30, 40, 50, 60, 70, 80, 90]\n",
      "De 2 em 2: [20, 40, 60, 80]\n",
      "De 3 em 3: [20, 50, 80]\n",
      "De 2 em 2: [10, 30, 50, 70, 90]\n",
      "Em ordem decrescente: [100, 90, 80, 70, 60, 50, 40, 30, 20, 10]\n",
      "Em ordem decrescente: [80, 70, 60, 50]\n"
     ]
    }
   ],
   "source": [
    "#          0   1   2   3   4   5   6   7   8   9     => ÍNDICES POSITIVOS\n",
    "numeros = [10, 20, 30, 40, 50, 60, 70, 80, 90, 100]\n",
    "\n",
    "print(f\"De 1 em 1, fica subentendido: {numeros[1:9]}\") \n",
    "print(f\"De 2 em 2: {numeros[1:9:2]}\")\n",
    "print(f\"De 3 em 3: {numeros[1:9:3]}\")\n",
    "\n",
    "print(f\"De 2 em 2: {numeros[::2]}\") \n",
    "print(f\"Em ordem decrescente: {numeros[::-1]}\")\n",
    "print(f\"Em ordem decrescente: {numeros[7:3:-1]}\")"
   ]
  },
  {
   "attachments": {},
   "cell_type": "markdown",
   "metadata": {},
   "source": [
    "## Fatiando strings\n",
    "String nada mais é do que uma lista de caracteres<br>\n",
    "Cada caractere corresponde a um elemento da lista string."
   ]
  },
  {
   "cell_type": "code",
   "execution_count": 69,
   "metadata": {},
   "outputs": [
    {
     "name": "stdout",
     "output_type": "stream",
     "text": [
      "Agora veremos como funciona o fatiamento de string\n",
      "A g\n",
      " veremos c\n",
      "gnirts ed otnemaitaf o anoicnuf omoc somerev arogA\n",
      "u mcsmrva\n",
      "Aoavrmscm ucoaoftaet esrn\n"
     ]
    }
   ],
   "source": [
    "frase = \"Agora veremos como funciona o fatiamento de string\"\n",
    "print(frase)\n",
    "print(frase[0], frase[-1])\n",
    "print(frase[5:15])\n",
    "print(frase[::-1])\n",
    "print(frase[20:3:-2])\n",
    "print(frase[0::2])\n"
   ]
  },
  {
   "attachments": {},
   "cell_type": "markdown",
   "metadata": {},
   "source": [
    "**Exercício:**\n",
    "2. Faça uma função que conte quantas letras 'a' ou 'A' existem em uma string passada por parâmetro"
   ]
  },
  {
   "cell_type": "code",
   "execution_count": 70,
   "metadata": {},
   "outputs": [
    {
     "name": "stdout",
     "output_type": "stream",
     "text": [
      "5\n"
     ]
    }
   ],
   "source": [
    "frase = \"Agora veremos como funciona o fatiamento de string\"\n",
    "def conta_a_A(f:str) -> int:\n",
    "    qtd = 0\n",
    "    for elem in f:\n",
    "        if elem == 'a' or elem == 'A':\n",
    "            qtd += 1\n",
    "    return qtd\n",
    "\n",
    "print(conta_a_A(frase))"
   ]
  }
 ],
 "metadata": {
  "kernelspec": {
   "display_name": "Python 3",
   "language": "python",
   "name": "python3"
  },
  "language_info": {
   "codemirror_mode": {
    "name": "ipython",
    "version": 3
   },
   "file_extension": ".py",
   "mimetype": "text/x-python",
   "name": "python",
   "nbconvert_exporter": "python",
   "pygments_lexer": "ipython3",
   "version": "3.11.4"
  },
  "orig_nbformat": 4
 },
 "nbformat": 4,
 "nbformat_minor": 2
}
