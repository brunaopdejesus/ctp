{
 "cells": [
  {
   "cell_type": "markdown",
   "metadata": {},
   "source": [
    "## Correção de exercícios sobre listas\n",
    "### Exercícios:\n",
    "1. Fazer um procedimento chamado 'preenche_lista(l)' que preencha uma lista passado por parâmtro até que seja digitado '.'"
   ]
  },
  {
   "cell_type": "code",
   "execution_count": 9,
   "metadata": {},
   "outputs": [],
   "source": [
    "def preenche_lista(l:list) -> None:\n",
    "    while True:\n",
    "        elem = input(\"Digite um elemento: \")\n",
    "        if elem != '.':\n",
    "            l.append(elem) \n",
    "        else:\n",
    "            break"
   ]
  },
  {
   "cell_type": "markdown",
   "metadata": {},
   "source": [
    "2. Fazer um procedimento chamado exibe_lista(l) que exiba os elementos da lista passada por parâmetro"
   ]
  },
  {
   "cell_type": "code",
   "execution_count": 11,
   "metadata": {},
   "outputs": [],
   "source": [
    "def exibe_lista(l:list) -> None:\n",
    "    for posicao, elem in enumerate(l):\n",
    "        print(f\"Elemento: {posicao}: {elem}\")"
   ]
  },
  {
   "cell_type": "markdown",
   "metadata": {},
   "source": [
    "3. A função len() do py retorna a quantidade de elementos de uma lista. faça uma função chamada conta_elementos(l) que tenha o mesmo efeito"
   ]
  },
  {
   "cell_type": "code",
   "execution_count": 13,
   "metadata": {},
   "outputs": [],
   "source": [
    "def conta_elementos(l:list) -> int:\n",
    "    qtd = 0\n",
    "    for elem in l:\n",
    "        qtd = qtd + 1\n",
    "    return qtd"
   ]
  },
  {
   "cell_type": "markdown",
   "metadata": {},
   "source": [
    "## Programa Principal"
   ]
  },
  {
   "cell_type": "code",
   "execution_count": 17,
   "metadata": {},
   "outputs": [
    {
     "name": "stdout",
     "output_type": "stream",
     "text": [
      "\n",
      "          0 - SAIR\n",
      "          1 - Preencher lista\n",
      "          2 - Exibir lista\n",
      "          3 - Contar elementos\n",
      "          \n"
     ]
    }
   ],
   "source": [
    "lista = list()\n",
    "while True:\n",
    "    print(\"\"\"\n",
    "          0 - SAIR\n",
    "          1 - Preencher lista\n",
    "          2 - Exibir lista\n",
    "          3 - Contar elementos\n",
    "          \"\"\")\n",
    "\n",
    "    item = int(input(\"Escolha um item: \"))\n",
    "\n",
    "    match item:\n",
    "        case 0:\n",
    "            break\n",
    "        case 1:\n",
    "            preenche_lista(lista)\n",
    "        case 2:\n",
    "            exibe_lista(lista)\n",
    "        case 3:\n",
    "            print(f\"Qtd de elementos: {conta_elementos(lista)} | {len(lista)}\")"
   ]
  },
  {
   "cell_type": "code",
   "execution_count": null,
   "metadata": {},
   "outputs": [],
   "source": []
  }
 ],
 "metadata": {
  "kernelspec": {
   "display_name": "Python 3",
   "language": "python",
   "name": "python3"
  },
  "language_info": {
   "codemirror_mode": {
    "name": "ipython",
    "version": 3
   },
   "file_extension": ".py",
   "mimetype": "text/x-python",
   "name": "python",
   "nbconvert_exporter": "python",
   "pygments_lexer": "ipython3",
   "version": "3.10.6"
  },
  "orig_nbformat": 4
 },
 "nbformat": 4,
 "nbformat_minor": 2
}
