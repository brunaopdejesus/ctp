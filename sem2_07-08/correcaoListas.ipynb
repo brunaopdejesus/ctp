{
 "cells": [
  {
   "cell_type": "markdown",
   "metadata": {},
   "source": [
    "\n",
    "## Correção da lista de exercícios sobre Listas\n",
    "### Exercícios\n",
    "1. Fazer um procedimento chamado ‘preenche_lista(l)’ que preencha uma lista passada por parâmetro até que seja digitado '.'(ponto).\n"
   ]
  },
  {
   "cell_type": "code",
   "execution_count": null,
   "metadata": {},
   "outputs": [],
   "source": [
    "def preenche_lista(l: list) -> None:\n",
    "    while True:\n",
    "        elem = input(\"Digite um elemento: \")\n",
    "        if elem != '.':\n",
    "            l.append(elem)\n",
    "        else:\n",
    "            break"
   ]
  },
  {
   "cell_type": "markdown",
   "metadata": {},
   "source": [
    "2. Fazer um procedimento chamado ‘exibe_lista(l)’ que exiba os elementos da lista passada por parâmetro."
   ]
  },
  {
   "cell_type": "code",
   "execution_count": null,
   "metadata": {},
   "outputs": [],
   "source": [
    "def exibe_lista(l: list) -> None:\n",
    "    for posicao, elem in enumerate(l):\n",
    "        print(f\"Elemento {posicao}: {elem}\")"
   ]
  },
  {
   "cell_type": "markdown",
   "metadata": {},
   "source": [
    "3. Sabemos que a função len() do Python retorna a quantidade de elementos de uma lista. Faça uma função chamada ‘conta_elementos(l)’ que tenha o mesmo efeito."
   ]
  },
  {
   "cell_type": "code",
   "execution_count": null,
   "metadata": {},
   "outputs": [],
   "source": [
    "def conta_elementos(l: list) -> int:\n",
    "    qtd = 0\n",
    "    for elem in l:\n",
    "        qtd = qtd + 1\n",
    "    return qtd"
   ]
  },
  {
   "cell_type": "markdown",
   "metadata": {},
   "source": [
    "4. Sabemos que a função index() do Python retorna o índice do elemento passado por parâmetro. Faça uma função parecida chamada ‘retorna_indice(elemento, lista)’ com a melhoria de retornar -1 caso o elemento não seja encontrado.."
   ]
  },
  {
   "cell_type": "code",
   "execution_count": null,
   "metadata": {},
   "outputs": [],
   "source": [
    "def retorna_indice(valor: int, l: list) -> int:\n",
    "    for indice, elem in enumerate(l):\n",
    "        if elem == valor:\n",
    "            return indice\n",
    "    return -1"
   ]
  },
  {
   "cell_type": "markdown",
   "metadata": {},
   "source": [
    "5. Sabemos que a função count() do Python retorna a quantidade de um elemento especifico. Faça uma função chamada ‘busca_elemento(valor, lista)’ que tenha o mesmo efeito."
   ]
  },
  {
   "cell_type": "code",
   "execution_count": null,
   "metadata": {},
   "outputs": [],
   "source": [
    "def busca_elemento(valor: int, l: list) -> int:\n",
    "    qtd = 0\n",
    "    for elem in l:\n",
    "        if elem == valor:\n",
    "            qtd = qtd + 1\n",
    "    return qtd"
   ]
  },
  {
   "cell_type": "markdown",
   "metadata": {},
   "source": [
    "6. Fazer uma função chamada ‘conta_inteiro(l)’ que conte quantos elementos inteiros existem em uma lista."
   ]
  },
  {
   "cell_type": "code",
   "execution_count": null,
   "metadata": {},
   "outputs": [],
   "source": [
    "def conta_inteiro(l: list) -> int:\n",
    "    qtd = 0\n",
    "    for elem in l:\n",
    "        if elem.isnumeric():\n",
    "            qtd += 1\n",
    "    return qtd\n"
   ]
  },
  {
   "cell_type": "markdown",
   "metadata": {},
   "source": [
    "### Programa Principal"
   ]
  },
  {
   "cell_type": "code",
   "execution_count": null,
   "metadata": {},
   "outputs": [
    {
     "name": "stdout",
     "output_type": "stream",
     "text": [
      "\u001b[H\u001b[2J\n",
      "          0 - SAIR\n",
      "          1 - Preencher a lista\n",
      "          2 - Exibir a lista\n",
      "          3 - Contar elementos\n",
      "          4 - Retorna o índice do elemento\n",
      "          5 - Contar um elemento específico\n",
      "          6 - Conta os elementos inteiros\n",
      "          \n",
      "Quantidade de inteiros: 5\n",
      "\u001b[H\u001b[2J\n",
      "          0 - SAIR\n",
      "          1 - Preencher a lista\n",
      "          2 - Exibir a lista\n",
      "          3 - Contar elementos\n",
      "          4 - Retorna o índice do elemento\n",
      "          5 - Contar um elemento específico\n",
      "          6 - Conta os elementos inteiros\n",
      "          \n",
      "\u001b[H\u001b[2J\n",
      "          0 - SAIR\n",
      "          1 - Preencher a lista\n",
      "          2 - Exibir a lista\n",
      "          3 - Contar elementos\n",
      "          4 - Retorna o índice do elemento\n",
      "          5 - Contar um elemento específico\n",
      "          6 - Conta os elementos inteiros\n",
      "          \n",
      "Quantidade de inteiros: 2\n",
      "\u001b[H\u001b[2J\n",
      "          0 - SAIR\n",
      "          1 - Preencher a lista\n",
      "          2 - Exibir a lista\n",
      "          3 - Contar elementos\n",
      "          4 - Retorna o índice do elemento\n",
      "          5 - Contar um elemento específico\n",
      "          6 - Conta os elementos inteiros\n",
      "          \n",
      "Elemento 0: 3\n",
      "Elemento 1: 4\n",
      "Elemento 2: a\n",
      "Elemento 3: b\n",
      "\u001b[H\u001b[2J\n",
      "          0 - SAIR\n",
      "          1 - Preencher a lista\n",
      "          2 - Exibir a lista\n",
      "          3 - Contar elementos\n",
      "          4 - Retorna o índice do elemento\n",
      "          5 - Contar um elemento específico\n",
      "          6 - Conta os elementos inteiros\n",
      "          \n"
     ]
    }
   ],
   "source": [
    "import os\n",
    "lista = ['1', '3', '3', '4', '5'] # lista = []\n",
    "while True:\n",
    "    os.system(\"clear\")\n",
    "    print(\"\"\"\n",
    "          0 - SAIR\n",
    "          1 - Preencher a lista\n",
    "          2 - Exibir a lista\n",
    "          3 - Contar elementos\n",
    "          4 - Retorna o índice do elemento\n",
    "          5 - Contar um elemento específico\n",
    "          6 - Conta os elementos inteiros\n",
    "          \"\"\")\n",
    "    item = int(input(\"Escolha um item: \"))\n",
    "    \n",
    "    match item:\n",
    "        case 0: \n",
    "            break\n",
    "        case 1:\n",
    "            lista.clear()\n",
    "            preenche_lista(lista)\n",
    "        case 2:\n",
    "            exibe_lista(lista)\n",
    "        case 3:\n",
    "            print(f\"Qtd de elementos: {conta_elementos(lista)} | {len(lista)}\")\n",
    "        case 4:\n",
    "            x = input(\"Digite o valor da busca: \")\n",
    "            ind = retorna_indice(x, lista)\n",
    "            if ind == -1:\n",
    "                print(f\"Este elemento ({x}) não existe na lista!\")\n",
    "            else:\n",
    "                print(f\"A posição do valor {x} é {ind}\")\n",
    "        case 5:\n",
    "            x = input(\"Digite o valor da busca: \")\n",
    "            qtd = busca_elemento(x, lista)\n",
    "            print(f\"Quantidade de elementos {x} = {qtd}\")\n",
    "        case 6:\n",
    "            print(f\"Quantidade de inteiros: {conta_inteiro(lista)}\")"
   ]
  }
 ],
 "metadata": {
  "kernelspec": {
   "display_name": "Python 3",
   "language": "python",
   "name": "python3"
  },
  "language_info": {
   "codemirror_mode": {
    "name": "ipython",
    "version": 3
   },
   "file_extension": ".py",
   "mimetype": "text/x-python",
   "name": "python",
   "nbconvert_exporter": "python",
   "pygments_lexer": "ipython3",
   "version": "3.10.6"
  },
  "orig_nbformat": 4
 },
 "nbformat": 4,
 "nbformat_minor": 2
}
