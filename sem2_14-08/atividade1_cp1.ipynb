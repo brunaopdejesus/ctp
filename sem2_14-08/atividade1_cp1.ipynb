{
 "cells": [
  {
   "cell_type": "markdown",
   "metadata": {},
   "source": [
    "### Atividade 1 - CP1\n",
    "**Nome**: Bruna Oliveira Pedroso de Jesus\n",
    "<br>\n",
    "**RM**: 99518"
   ]
  },
  {
   "cell_type": "code",
   "execution_count": 71,
   "metadata": {},
   "outputs": [],
   "source": [
    "def converte_vogais_maiusculo(frase:str) -> str:\n",
    "\n",
    "    frase_nova = ''\n",
    "    \n",
    "    for letra in frase:\n",
    "        if letra.upper() in 'AEIOU':\n",
    "            frase_nova += letra.upper()\n",
    "        else:\n",
    "            frase_nova += letra\n",
    "            \n",
    "    return frase_nova\n",
    "\n",
    "def isFloat(valor:str) -> str:\n",
    "    if valor.replace('.', '', 1).isnumeric():\n",
    "        return \"Esse valor é float\"\n",
    "    elif valor[0] == '-' and valor[1:].replace('.', '', 1).isnumeric():\n",
    "        return \"Esse valor é float\"\n",
    "    else:\n",
    "        return \"Esse valor não é float\""
   ]
  },
  {
   "cell_type": "code",
   "execution_count": 77,
   "metadata": {},
   "outputs": [
    {
     "name": "stdout",
     "output_type": "stream",
     "text": [
      "\u001b[H\u001b[2J\n",
      "          0 - SAIR\n",
      "          1 - Converte vogais\n",
      "          2 - Verifica se é float\n",
      "          \n"
     ]
    },
    {
     "name": "stdout",
     "output_type": "stream",
     "text": [
      "EstOU fAzEndO A AtIvIdAdE 1\n",
      "\u001b[H\u001b[2J\n",
      "          0 - SAIR\n",
      "          1 - Converte vogais\n",
      "          2 - Verifica se é float\n",
      "          \n",
      "Esse valor é float\n",
      "\u001b[H\u001b[2J\n",
      "          0 - SAIR\n",
      "          1 - Converte vogais\n",
      "          2 - Verifica se é float\n",
      "          \n",
      "Esse valor não é float\n",
      "\u001b[H\u001b[2J\n",
      "          0 - SAIR\n",
      "          1 - Converte vogais\n",
      "          2 - Verifica se é float\n",
      "          \n"
     ]
    }
   ],
   "source": [
    "import os\n",
    "while True:\n",
    "    os.system(\"clear\")\n",
    "    print(\"\"\"\n",
    "          0 - SAIR\n",
    "          1 - Converte vogais\n",
    "          2 - Verifica se é float\n",
    "          \"\"\")\n",
    "    item = int(input(\"Escolha um item: \"))\n",
    "    \n",
    "    match item:\n",
    "        case 0: \n",
    "            break\n",
    "        case 1:\n",
    "            frase = input(\"Digite um texto: \")\n",
    "            print(converte_vogais_maiusculo(frase))\n",
    "        case 2:\n",
    "            valor = input(\"Digite um valor: \")\n",
    "            print(isFloat(valor))"
   ]
  }
 ],
 "metadata": {
  "kernelspec": {
   "display_name": "Python 3",
   "language": "python",
   "name": "python3"
  },
  "language_info": {
   "codemirror_mode": {
    "name": "ipython",
    "version": 3
   },
   "file_extension": ".py",
   "mimetype": "text/x-python",
   "name": "python",
   "nbconvert_exporter": "python",
   "pygments_lexer": "ipython3",
   "version": "3.10.6"
  },
  "orig_nbformat": 4
 },
 "nbformat": 4,
 "nbformat_minor": 2
}
