{
 "cells": [
  {
   "attachments": {},
   "cell_type": "markdown",
   "metadata": {},
   "source": [
    "## Parâmetros Default - Subalgoritmos\n",
    "Este tipo de parâmetro serve para assumir um valor padrão no parâmetro, quando não definimos um.\n",
    "\n",
    "**Sintaxe:**\n",
    "```\n",
    "def nome_subalgoritmo (parametros = valor_default) -> tipo_retorno:\n",
    "    # corpo do algoritmo\n",
    "    return valor\n",
    "```\n",
    "\n",
    "**Exemplo:**\n",
    "Este procedimento exibe uma saudação a partir do nome enviado por parâmetro."
   ]
  },
  {
   "cell_type": "code",
   "execution_count": 19,
   "metadata": {},
   "outputs": [
    {
     "name": "stdout",
     "output_type": "stream",
     "text": [
      "Bom dia, Usuário!\n",
      "Bom dia, Bruna!\n",
      "Bom dia, Maria!\n",
      "Bom dia, Usuário!\n"
     ]
    }
   ],
   "source": [
    "def saudacao(mensagem:str = \"Bom dia\", nome:str = \"Usuário\") -> None:\n",
    "    print(f\"{mensagem}, {nome}!\")\n",
    "\n",
    "saudacao(\"Bom dia\")\n",
    "saudacao(\"Bom dia\", \"Bruna\")\n",
    "saudacao(nome = \"Maria\")\n",
    "saudacao()\n"
   ]
  },
  {
   "attachments": {},
   "cell_type": "markdown",
   "metadata": {},
   "source": []
  },
  {
   "cell_type": "code",
   "execution_count": 20,
   "metadata": {},
   "outputs": [
    {
     "data": {
      "text/plain": [
       "<function print(*args, sep=' ', end='\\n', file=None, flush=False)>"
      ]
     },
     "execution_count": 20,
     "metadata": {},
     "output_type": "execute_result"
    }
   ],
   "source": [
    "def numerMaior(n1:float = 1, n2:float = 2, n3:float = 3) -> str:\n",
    "    if (n1 > n2) and (n1 > n3):\n",
    "        maior = n1\n",
    "    elif (n2 > n1) and (n2 > n3):\n",
    "        maior = n2\n",
    "    elif (n3 > n1) and (n3 > n2):\n",
    "        maior = n3\n",
    "    else:\n",
    "        print(\"else\")\n",
    "    return print\n",
    "    \n",
    "numerMaior(5,7,9)"
   ]
  },
  {
   "cell_type": "code",
   "execution_count": 21,
   "metadata": {},
   "outputs": [
    {
     "name": "stdout",
     "output_type": "stream",
     "text": [
      "9\n",
      "3\n",
      "56\n"
     ]
    }
   ],
   "source": [
    "def maior3n(n1:float = 1, n2:float = 2, n3:float = 3) -> float:\n",
    "    maior = n1\n",
    "    if n2 > maior:\n",
    "        maior = n2\n",
    "    if n3 > maior:\n",
    "        maior = n3\n",
    "    return maior\n",
    "print(maior3n(5,8,9))\n",
    "print(maior3n())\n",
    "print(maior3n(n2=56))"
   ]
  },
  {
   "attachments": {},
   "cell_type": "markdown",
   "metadata": {},
   "source": [
    "## Parâmetros do tipo *args\n",
    "O parâmetro do tipo *nargs permite que passemos um número não definido de parâmetros.\n",
    "\n",
    "**Sintaxe:**\n",
    "```python3\n",
    "def nome_subalgoritmo (*args) -> tipo_retorno:\n",
    "    corpo\n",
    "    return retorno\n",
    "```\n",
    "\n",
    "##### Utilizando *args:"
   ]
  },
  {
   "cell_type": "code",
   "execution_count": 24,
   "metadata": {},
   "outputs": [
    {
     "name": "stdout",
     "output_type": "stream",
     "text": [
      "165\n",
      "56\n",
      "264\n"
     ]
    }
   ],
   "source": [
    "def soma_numeros(*args) -> float: # o args passa a ser uma lista\n",
    "    soma=0\n",
    "    for valor in args:\n",
    "        soma = soma + valor\n",
    "    return soma\n",
    "\n",
    "print(soma_numeros(56, 76, 33))\n",
    "print(soma_numeros(12, 44))\n",
    "print(soma_numeros(22, 44, 55, 66, 77))\n"
   ]
  },
  {
   "attachments": {},
   "cell_type": "markdown",
   "metadata": {},
   "source": [
    "**Exercício:** Utilizando o parâmetro *args, faça uma função que calcule a média de N números"
   ]
  },
  {
   "cell_type": "code",
   "execution_count": 30,
   "metadata": {},
   "outputs": [
    {
     "name": "stdout",
     "output_type": "stream",
     "text": [
      "4.5\n",
      "5.166666666666667\n"
     ]
    }
   ],
   "source": [
    "def mediaNumeros(*args) -> float:\n",
    "    soma=0\n",
    "    qtd=0 # é o contador\n",
    "    for valor in args:\n",
    "        soma = soma + valor\n",
    "        qtd += 1\n",
    "    return soma / qtd\n",
    "\n",
    "print(mediaNumeros(4,5))\n",
    "print(mediaNumeros(4,5,6,2,5,9))\n"
   ]
  },
  {
   "attachments": {},
   "cell_type": "markdown",
   "metadata": {},
   "source": [
    "## Subalgoritmo encadeado\n",
    "**Exemplo:** Fazer uma função que calcula a média dos checkpoints de um aluno."
   ]
  },
  {
   "cell_type": "code",
   "execution_count": 35,
   "metadata": {},
   "outputs": [
    {
     "name": "stdout",
     "output_type": "stream",
     "text": [
      "5.5\n",
      "8.5\n"
     ]
    }
   ],
   "source": [
    "# funcao primaria\n",
    "def media_cp(n1:float, n2:float, n3:float) -> float:\n",
    "\n",
    "    # funcao secundaria\n",
    "    def menorValor(n1:float, n2:float, n3:float) -> float:\n",
    "        # corpo secundaria\n",
    "        menor = n1\n",
    "        if n2 < menor:\n",
    "            menor = n2\n",
    "        if n3 < menor:\n",
    "            menor = n3\n",
    "        return menor\n",
    "\n",
    "    # corpo primaria\n",
    "    media = (n1 + n2 + n3 - menorValor(n1, n2, n3)) / 2\n",
    "    return media\n",
    "\n",
    "# chamada da funcao\n",
    "print(media_cp(4, 5, 6))\n",
    "print(media_cp(7, 10, 6))"
   ]
  },
  {
   "attachments": {},
   "cell_type": "markdown",
   "metadata": {},
   "source": [
    "**Exercício:** Fazer uma função que calcule a média de 3 números utilizando o conceito de subalgoritmo primário e secundário."
   ]
  },
  {
   "cell_type": "code",
   "execution_count": 43,
   "metadata": {},
   "outputs": [
    {
     "name": "stdout",
     "output_type": "stream",
     "text": [
      "8.666666666666666\n"
     ]
    }
   ],
   "source": [
    "def media3num(n1:float, n2:float, n3:float) -> float:\n",
    "\n",
    "    def soma3num(n1:float, n2:float, n3:float) -> float:\n",
    "        soma = n1+n2+n3\n",
    "        return soma\n",
    "\n",
    "    media = (soma3num(n1,n2,n3)) / 3\n",
    "    return media\n",
    "\n",
    "print(media3num(10, 7, 9))\n",
    "        "
   ]
  },
  {
   "cell_type": "code",
   "execution_count": null,
   "metadata": {},
   "outputs": [
    {
     "name": "stdout",
     "output_type": "stream",
     "text": [
      "8.666666666666666\n"
     ]
    }
   ],
   "source": [
    "def media3num(n1:float, n2:float, n3:float) -> float:\n",
    "\n",
    "\n",
    "\n",
    "\n",
    "        "
   ]
  },
  {
   "cell_type": "code",
   "execution_count": 48,
   "metadata": {},
   "outputs": [
    {
     "ename": "TypeError",
     "evalue": "createList() missing 3 required positional arguments: 'n2', 'n3', and 'l'",
     "output_type": "error",
     "traceback": [
      "\u001b[1;31m---------------------------------------------------------------------------\u001b[0m",
      "\u001b[1;31mTypeError\u001b[0m                                 Traceback (most recent call last)",
      "Cell \u001b[1;32mIn[48], line 7\u001b[0m\n\u001b[0;32m      3\u001b[0m     \u001b[39mreturn\u001b[39;00m l\n\u001b[0;32m      5\u001b[0m lista \u001b[39m=\u001b[39m \u001b[39mlist\u001b[39m()\n\u001b[1;32m----> 7\u001b[0m \u001b[39mprint\u001b[39m(createList(lista))\n",
      "\u001b[1;31mTypeError\u001b[0m: createList() missing 3 required positional arguments: 'n2', 'n3', and 'l'"
     ]
    }
   ],
   "source": [
    "def createList(n1:float, n2:float, n3:float, l:list) -> None:\n",
    "    l.append(n1, n2, n3)\n",
    "    return l\n",
    "\n",
    "lista = list()\n",
    "\n",
    "print(createList(lista))\n",
    "    "
   ]
  },
  {
   "attachments": {},
   "cell_type": "markdown",
   "metadata": {},
   "source": [
    "### Programa Principal"
   ]
  }
 ],
 "metadata": {
  "kernelspec": {
   "display_name": "Python 3",
   "language": "python",
   "name": "python3"
  },
  "language_info": {
   "codemirror_mode": {
    "name": "ipython",
    "version": 3
   },
   "file_extension": ".py",
   "mimetype": "text/x-python",
   "name": "python",
   "nbconvert_exporter": "python",
   "pygments_lexer": "ipython3",
   "version": "3.11.4"
  },
  "orig_nbformat": 4
 },
 "nbformat": 4,
 "nbformat_minor": 2
}
