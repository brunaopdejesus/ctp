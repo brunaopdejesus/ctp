{
 "cells": [
  {
   "attachments": {},
   "cell_type": "markdown",
   "metadata": {},
   "source": [
    "## Parâmetros Default - Subalgoritmos\n",
    "Este tipo de parâmetro serve para assumir um valor padrão no parâmetro, quando não definimos um.\n",
    "\n",
    "**Sintaxe:**\n",
    "```\n",
    "def nome_subalgoritmo (parametros = valor_default) -> tipo_retorno:\n",
    "    # corpo do algoritmo\n",
    "    return valor\n",
    "```\n",
    "\n",
    "**Exemplo:**\n",
    "Este procedimento exibe uma saudação a partir do nome enviado por parâmetro."
   ]
  },
  {
   "cell_type": "code",
   "execution_count": 1,
   "metadata": {},
   "outputs": [
    {
     "name": "stdout",
     "output_type": "stream",
     "text": [
      "Bom dia, Usuário!\n",
      "Bom dia, Bruna!\n",
      "Bom dia, Maria!\n",
      "Bom dia, Usuário!\n"
     ]
    }
   ],
   "source": [
    "def saudacao(mensagem:str = \"Bom dia\", nome:str = \"Usuário\") -> None:\n",
    "    print(f\"{mensagem}, {nome}!\")\n",
    "\n",
    "saudacao(\"Bom dia\")\n",
    "saudacao(\"Bom dia\", \"Bruna\")\n",
    "saudacao(nome = \"Maria\")\n",
    "saudacao()\n"
   ]
  },
  {
   "attachments": {},
   "cell_type": "markdown",
   "metadata": {},
   "source": []
  },
  {
   "cell_type": "code",
   "execution_count": 2,
   "metadata": {},
   "outputs": [
    {
     "data": {
      "text/plain": [
       "<function print>"
      ]
     },
     "execution_count": 2,
     "metadata": {},
     "output_type": "execute_result"
    }
   ],
   "source": [
    "def numerMaior(n1:float = 1, n2:float = 2, n3:float = 3) -> str:\n",
    "    if (n1 > n2) and (n1 > n3):\n",
    "        maior = n1\n",
    "    elif (n2 > n1) and (n2 > n3):\n",
    "        maior = n2\n",
    "    elif (n3 > n1) and (n3 > n2):\n",
    "        maior = n3\n",
    "    else:\n",
    "        print(\"else\")\n",
    "    return print\n",
    "    \n",
    "numerMaior(5,7,9)"
   ]
  },
  {
   "cell_type": "code",
   "execution_count": 3,
   "metadata": {},
   "outputs": [
    {
     "name": "stdout",
     "output_type": "stream",
     "text": [
      "9\n",
      "3\n",
      "56\n"
     ]
    }
   ],
   "source": [
    "def maior3n(n1:float = 1, n2:float = 2, n3:float = 3) -> float:\n",
    "    maior = n1\n",
    "    if n2 > maior:\n",
    "        maior = n2\n",
    "    if n3 > maior:\n",
    "        maior = n3\n",
    "    return maior\n",
    "print(maior3n(5,8,9))\n",
    "print(maior3n())\n",
    "print(maior3n(n2=56))"
   ]
  },
  {
   "attachments": {},
   "cell_type": "markdown",
   "metadata": {},
   "source": [
    "## Parâmetros do tipo *args\n",
    "O parâmetro do tipo *nargs permite que passemos um número não definido de parâmetros.\n",
    "\n",
    "**Sintaxe:**\n",
    "```python3\n",
    "def nome_subalgoritmo (*args) -> tipo_retorno:\n",
    "    corpo\n",
    "    return retorno\n",
    "```\n",
    "\n",
    "##### Utilizando *args:"
   ]
  },
  {
   "cell_type": "code",
   "execution_count": 4,
   "metadata": {},
   "outputs": [
    {
     "name": "stdout",
     "output_type": "stream",
     "text": [
      "165\n",
      "56\n",
      "264\n"
     ]
    }
   ],
   "source": [
    "def soma_numeros(*args) -> float: # o args passa a ser uma lista\n",
    "    soma=0\n",
    "    for valor in args:\n",
    "        soma = soma + valor\n",
    "    return soma\n",
    "\n",
    "print(soma_numeros(56, 76, 33))\n",
    "print(soma_numeros(12, 44))\n",
    "print(soma_numeros(22, 44, 55, 66, 77))\n"
   ]
  },
  {
   "attachments": {},
   "cell_type": "markdown",
   "metadata": {},
   "source": [
    "**Exercício:** Utilizando o parâmetro *args, faça uma função que calcule a média de N números"
   ]
  },
  {
   "cell_type": "code",
   "execution_count": 5,
   "metadata": {},
   "outputs": [
    {
     "name": "stdout",
     "output_type": "stream",
     "text": [
      "4.5\n",
      "5.166666666666667\n"
     ]
    }
   ],
   "source": [
    "def mediaNumeros(*args) -> float:\n",
    "    soma=0\n",
    "    qtd=0 # é o contador\n",
    "    for valor in args:\n",
    "        soma = soma + valor\n",
    "        qtd += 1\n",
    "    return soma / qtd\n",
    "\n",
    "print(mediaNumeros(4,5))\n",
    "print(mediaNumeros(4,5,6,2,5,9))\n"
   ]
  },
  {
   "attachments": {},
   "cell_type": "markdown",
   "metadata": {},
   "source": [
    "## Subalgoritmo encadeado\n",
    "**Exemplo:** Fazer uma função que calcula a média dos checkpoints de um aluno."
   ]
  },
  {
   "cell_type": "code",
   "execution_count": 6,
   "metadata": {},
   "outputs": [
    {
     "name": "stdout",
     "output_type": "stream",
     "text": [
      "5.5\n",
      "8.5\n"
     ]
    }
   ],
   "source": [
    "# funcao primaria\n",
    "def media_cp(n1:float, n2:float, n3:float) -> float:\n",
    "\n",
    "    # funcao secundaria\n",
    "    def menorValor(n1:float, n2:float, n3:float) -> float:\n",
    "        # corpo secundaria\n",
    "        menor = n1\n",
    "        if n2 < menor:\n",
    "            menor = n2\n",
    "        if n3 < menor:\n",
    "            menor = n3\n",
    "        return menor\n",
    "\n",
    "    # corpo primaria\n",
    "    media = (n1 + n2 + n3 - menorValor(n1, n2, n3)) / 2\n",
    "    return media\n",
    "\n",
    "# chamada da funcao\n",
    "print(media_cp(4, 5, 6))\n",
    "print(media_cp(7, 10, 6))"
   ]
  },
  {
   "attachments": {},
   "cell_type": "markdown",
   "metadata": {},
   "source": [
    "**Exercício:** Fazer uma função que calcule a média de 3 números utilizando o conceito de subalgoritmo primário e secundário."
   ]
  },
  {
   "cell_type": "code",
   "execution_count": 7,
   "metadata": {},
   "outputs": [
    {
     "name": "stdout",
     "output_type": "stream",
     "text": [
      "8.666666666666666\n"
     ]
    }
   ],
   "source": [
    "def media3num(n1:float, n2:float, n3:float) -> float:\n",
    "\n",
    "    def soma3num(n1:float, n2:float, n3:float) -> float:\n",
    "        soma = n1+n2+n3\n",
    "        return soma\n",
    "\n",
    "    media = (soma3num(n1,n2,n3)) / 3\n",
    "    return media\n",
    "\n",
    "print(media3num(10, 7, 9))"
   ]
  },
  {
   "cell_type": "markdown",
   "metadata": {},
   "source": [
    "## Desafio\n",
    "Sabemos que o cálculo das raízes da equação do segundo grau é algo rotineiro para os alunos de ensino médio. Visando facilitar a correção, vamos construir uma solução que calcule as raízes (por Bhaskara) a partir de valores fornecidos pelos usuários até que o usuário não deseje mais.<br><br>\n",
    "Siga as restrições e orientações: <br>\n",
    "• Se o valor de a for 0 (zero), “Esta equação não é do segundo grau, sim do primeiro.” NÃO RESOLVER. <br>\n",
    "• Se b ou c forem 0, é uma “Equação do segundo grau Incompleta”. RESOLVER. <br>\n",
    "• Se b e c não forem 0, é uma “Equação do segundo grau completa”. RESOLVER. <br>\n",
    "• Se o delta resultar um valor negativo, não é possível calcular por Bhaskara com números Reais porque “Não há raiz quadrada negativa”. NÃO RESOLVER. <br>\n",
    "• Se o delta resultar zero a equação admite uma solução. RESOLVER <br>\n",
    "• Se o delta resultar um valor positivo (como no exemplo) as raízes se dão por duas soluções, ou seja, x1 e x2 (raízes distintas). RESOLVER.<br><br>\n",
    "Agora que lembramos como se calcula, vamos construir uma solução utilizando Subalgoritmos (Funções e procedimentos com ou sem passagem de parâmetros) que resolva este problema a partir de 3 valores passados pelo usuário. Quando necessário, exibir as frases das restrições que estão entre aspas em negrito.<br><br>\n",
    "Ao final da execução do cálculo (OU NÃO) das raízes, perguntar ao usuário se ele deseja continuar utilizando o programa. Considere “S” para Sim (continuar) para continuar e “N” para Não (Terminar o programa). Se não digitar S ou N, advertir o usuário para que digite."
   ]
  },
  {
   "cell_type": "code",
   "execution_count": 4,
   "metadata": {},
   "outputs": [],
   "source": [
    "import math\n",
    "\n",
    "def calcularRaiz(a:int, b:int, c:int) -> str:\n",
    "\n",
    "    if a == 0:\n",
    "        print(\"Essa equação é do primeiro grau, a resolução não será possível.\")\n",
    "        while True:\n",
    "            resposta = input(\"Digite 'S' para continuar ou 'N' para sair: \")\n",
    "            \n",
    "            if resposta.upper() == 'S':\n",
    "                print(\"Continuando o código...\")\n",
    "            elif resposta.upper() == 'N':\n",
    "                print(\"Programa encerrado.\")\n",
    "                break\n",
    "            else:\n",
    "                print(\"Resposta inválida. Digite 'S' para continuar ou 'N' para sair.\")\n",
    "\n",
    "    \n",
    "    elif b == 0 or c == 0:\n",
    "        return print(\"Essa equação é completa\")\n",
    "    \n",
    "    elif b != 0 or c != 0:\n",
    "        return print(\"Essa equação é incompleta\")\n",
    "    \n",
    "    def calcularDelta(a:int, b:int, c:int) -> int:\n",
    "        delta = (b**2) - 4 * a * c\n",
    "        return delta\n",
    "        \n",
    "    raizDelta = math.sqrt(calcularDelta(a,b,c))\n",
    "\n",
    "    if math.sqrt(calcularDelta(a,b,c)) < 0:\n",
    "        print(\"Valor de delta menor que 0, a resolução não será possível\")\n",
    "        while True:\n",
    "            resposta = input(\"Digite 'S' para continuar ou 'N' para sair: \")\n",
    "            \n",
    "            if resposta.upper() == 'S':\n",
    "                print(\"Continuando o código...\")\n",
    "            elif resposta.upper() == 'N':\n",
    "                print(\"Programa encerrado.\")\n",
    "                break\n",
    "            else:\n",
    "                print(\"Resposta inválida. Digite 'S' para continuar ou 'N' para sair.\")\n",
    "\n",
    "    elif raizDelta == 0:\n",
    "        x = ((-b + raizDelta) / 2 * a)\n",
    "        print(x)\n",
    "    else:\n",
    "        x1 = ((-b + raizDelta) / 2 * a)\n",
    "        x2 = ((-b - raizDelta) / 2 * a)\n",
    "        print(x1, x2)\n",
    "\n",
    "    x1 = ((-b + raizDelta) / 2 * a)\n",
    "    x2 = ((-b - raizDelta) / 2 * a)\n",
    "\n",
    "    return x1, x2\n",
    "\n"
   ]
  },
  {
   "cell_type": "code",
   "execution_count": 6,
   "metadata": {},
   "outputs": [
    {
     "name": "stdout",
     "output_type": "stream",
     "text": [
      "Não há raiz quadrada negativa.\n",
      "Programa encerrado.\n"
     ]
    }
   ],
   "source": [
    "import math\n",
    "\n",
    "def calcular_raizes(a, b, c):\n",
    "\n",
    "    def calcular_delta(a, b, c):\n",
    "        return b**2 - 4*a*c\n",
    "\n",
    "    delta = calcular_delta(a, b, c)\n",
    "    \n",
    "    if a == 0:\n",
    "        print(\"Esta equação não é do segundo grau, sim do primeiro.\")\n",
    "        return\n",
    "    elif b == 0 or c == 0:\n",
    "        print(\"Equação do segundo grau Incompleta.\")\n",
    "    elif delta < 0:\n",
    "        print(\"Não há raiz quadrada negativa.\")\n",
    "        return\n",
    "    elif delta == 0:\n",
    "        x = -b / (2*a)\n",
    "        print(\"A equação admite uma solução: x =\", x)\n",
    "    else:\n",
    "        x1 = (-b + math.sqrt(delta)) / (2*a)\n",
    "        x2 = (-b - math.sqrt(delta)) / (2*a)\n",
    "        print(\"As raízes são: x1 =\", x1, \"x2 =\", x2)\n",
    "\n",
    "def main():\n",
    "    continuar = 'S'\n",
    "    \n",
    "    while continuar == 'S':\n",
    "        a = float(input(\"Digite o valor de a: \"))\n",
    "        b = float(input(\"Digite o valor de b: \"))\n",
    "        c = float(input(\"Digite o valor de c: \"))\n",
    "        \n",
    "        calcular_raizes(a, b, c)\n",
    "        \n",
    "        continuar = input(\"Deseja continuar? (S/N): \").upper()\n",
    "        while continuar not in ['S', 'N']:\n",
    "            print(\"Por favor, digite S para continuar ou N para terminar.\")\n",
    "            continuar = input(\"Deseja continuar? (S/N): \").upper()\n",
    "\n",
    "    print(\"Programa encerrado.\")\n",
    "\n",
    "if __name__ == \"__main__\":\n",
    "    main()\n",
    "\n",
    "# testar valor de a=0\n",
    "# print(calcularRaiz(0,2,-3))\n",
    "\n",
    "# testar delta < 0\n",
    "# print(calcularRaiz(2,4,6))\n",
    "\n",
    "# testar delta == 0\n",
    "# print(calcularRaiz(1,-4,4))\n",
    "\n",
    "# testar delta > 0\n",
    "# print(calcularRaiz(1,-3,2))\n"
   ]
  }
 ],
 "metadata": {
  "kernelspec": {
   "display_name": "Python 3",
   "language": "python",
   "name": "python3"
  },
  "language_info": {
   "codemirror_mode": {
    "name": "ipython",
    "version": 3
   },
   "file_extension": ".py",
   "mimetype": "text/x-python",
   "name": "python",
   "nbconvert_exporter": "python",
   "pygments_lexer": "ipython3",
   "version": "3.10.6"
  },
  "orig_nbformat": 4
 },
 "nbformat": 4,
 "nbformat_minor": 2
}
