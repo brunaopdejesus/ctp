{
 "cells": [
  {
   "cell_type": "markdown",
   "metadata": {},
   "source": [
    "### Exercício\n",
    "\n",
    "Crie um dicionário de 5 campos a sua escola (preferencialmente use tipos diferentes) e faça as seguintes operações:\n",
    "\n",
    " \n",
    "1 - Exibir todo o conteúdo do dicionário <br>\n",
    "\n",
    "2 - Inserir um campo no diconário<br>\n",
    "\n",
    "3 - Alterar o valor de um campo<br>\n",
    "\n",
    "4 - Exibir um campo específico<br>\n",
    "\n",
    "5 - Remover um campo específico<br>\n",
    "\n",
    " \n",
    "\n",
    "Depois de concluir cada exercício, crie um menu (semelhante à exposição acima) que trate as operações.\n",
    "\n",
    "<br>Considera aplicar todo conceito com subalgoritmos\n"
   ]
  },
  {
   "cell_type": "code",
   "execution_count": 1,
   "metadata": {},
   "outputs": [
    {
     "name": "stdout",
     "output_type": "stream",
     "text": [
      "{'nome': 'Bruna Oliveira', 'idade': 18, 'email': 'bruna@gmail.com', 'endereco': 'rua sp', 'dataNascimento': '09/05/2005'}\n"
     ]
    }
   ],
   "source": [
    "dicionario = dict() # ou dados = {}\n",
    "\n",
    "dicionario = {\n",
    "    'nome': 'Bruna Oliveira',\n",
    "    'idade': 18,\n",
    "    'email': 'bruna@gmail.com',\n",
    "    'endereco': 'rua sp',\n",
    "    'dataNascimento': '09/05/2005'\n",
    "}\n",
    "\n",
    "print(dicionario)"
   ]
  },
  {
   "cell_type": "code",
   "execution_count": 6,
   "metadata": {},
   "outputs": [
    {
     "name": "stdout",
     "output_type": "stream",
     "text": [
      "O campo nome tem o conteúdo 'Bruna Oliveira'\n",
      "O campo idade tem o conteúdo '18'\n",
      "O campo email tem o conteúdo 'bruna@gmail.com'\n",
      "O campo endereco tem o conteúdo 'rua sp'\n",
      "O campo dataNascimento tem o conteúdo '09/05/2005'\n"
     ]
    }
   ],
   "source": [
    "def exibirDicionario(dicionario: dict()) -> None:\n",
    "    for keys, values in dicionario.items():\n",
    "        print(f\"O campo {keys} tem o conteúdo '{values}'\")\n",
    "exibirDicionario(dicionario)"
   ]
  },
  {
   "cell_type": "code",
   "execution_count": 9,
   "metadata": {},
   "outputs": [
    {
     "name": "stdout",
     "output_type": "stream",
     "text": [
      "{'nome': 'Bruna Oliveira', 'idade': 18, 'email': 'bruna@gmail.com', 'endereco': 'rua sp', 'dataNascimento': '09/05/2005', 'aaa': 'bbb', 'Telefone': '(11) 92736-4738'}\n"
     ]
    }
   ],
   "source": [
    "def inserirCampo(dicionario:dict(), key: str,value:str) -> None:\n",
    "    dicionario[key] = value\n",
    "    print(dicionario)\n",
    "\n",
    "inserirCampo(dicionario, 'Telefone', '(11) 92736-4738')"
   ]
  },
  {
   "cell_type": "code",
   "execution_count": 14,
   "metadata": {},
   "outputs": [
    {
     "name": "stdout",
     "output_type": "stream",
     "text": [
      "Campo \"nome\" alterado com sucesso!\n",
      "{'nome': 'Ana', 'idade': 18, 'email': 'bruna@gmail.com', 'endereco': 'rua sp', 'dataNascimento': '09/05/2005', 'aaa': 'bbb', 'Telefone': '(11) 92736-4738'}\n"
     ]
    }
   ],
   "source": [
    "def alterarValor(dicionario:dict(), key:str, value:str) -> None:\n",
    "    if key in dicionario.keys():\n",
    "        dicionario[key] = value\n",
    "        print(f'Campo \"{key}\" alterado com sucesso!')\n",
    "        print(f\"{dicionario}\")\n",
    "    else:\n",
    "        print(f\"Não foi possível encontrar o campo {key}\")\n",
    "alterarValor(dicionario, 'nome', 'Ana')"
   ]
  },
  {
   "cell_type": "code",
   "execution_count": null,
   "metadata": {},
   "outputs": [],
   "source": [
    "def exibirCampo(dicionario:dict(), key:str, value:str) -> None:\n",
    "    for keys, values in dicionario.items():\n",
    "        print(f\"O campo {keys} tem o conteúdo '{values}'\")\n",
    "exibirDicionario(dicionario)"
   ]
  }
 ],
 "metadata": {
  "kernelspec": {
   "display_name": "Python 3",
   "language": "python",
   "name": "python3"
  },
  "language_info": {
   "codemirror_mode": {
    "name": "ipython",
    "version": 3
   },
   "file_extension": ".py",
   "mimetype": "text/x-python",
   "name": "python",
   "nbconvert_exporter": "python",
   "pygments_lexer": "ipython3",
   "version": "3.11.4"
  },
  "orig_nbformat": 4
 },
 "nbformat": 4,
 "nbformat_minor": 2
}
