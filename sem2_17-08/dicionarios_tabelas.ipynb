{
 "cells": [
  {
   "attachments": {},
   "cell_type": "markdown",
   "metadata": {},
   "source": [
    "### Dicionários\n",
    "Dicionários são estruturas de dados que trabalham com keys(campos) ao invés de índices. Colocamos toda a estrutura entre {}. Os campos (keys) e valores (values) são separados por dois pontos (:)"
   ]
  },
  {
   "attachments": {},
   "cell_type": "markdown",
   "metadata": {},
   "source": [
    "#### Criando um dicionário vazio"
   ]
  },
  {
   "cell_type": "code",
   "execution_count": 11,
   "metadata": {},
   "outputs": [
    {
     "name": "stdout",
     "output_type": "stream",
     "text": [
      "{'nome': 'Bruna Oliveira', 'idade': 18}\n"
     ]
    }
   ],
   "source": [
    "dados = dict() # ou dados = {}\n",
    "\n",
    "dados = {\n",
    "    'nome': 'Bruna Oliveira',\n",
    "    'idade': 18\n",
    "}\n",
    "\n",
    "print(dados)"
   ]
  },
  {
   "attachments": {},
   "cell_type": "markdown",
   "metadata": {},
   "source": [
    "#### Acrescentando uma key (campo)"
   ]
  },
  {
   "cell_type": "code",
   "execution_count": 12,
   "metadata": {},
   "outputs": [
    {
     "name": "stdout",
     "output_type": "stream",
     "text": [
      "{'nome': 'Bruna Oliveira', 'idade': 18}\n",
      "{'nome': 'Bruna Oliveira', 'idade': 18, 'email': 'bruna@fiap.com.br'}\n"
     ]
    }
   ],
   "source": [
    "# Exibindo o estado do dicionário\n",
    "print (dados)\n",
    "dados[\"email\"] = 'bruna@fiap.com.br'\n",
    "print(dados)"
   ]
  },
  {
   "attachments": {},
   "cell_type": "markdown",
   "metadata": {},
   "source": [
    "#### Excluindo uma key"
   ]
  },
  {
   "cell_type": "code",
   "execution_count": 13,
   "metadata": {},
   "outputs": [
    {
     "name": "stdout",
     "output_type": "stream",
     "text": [
      "{'nome': 'Bruna Oliveira', 'idade': 18, 'email': 'bruna@fiap.com.br'}\n",
      "{'nome': 'Bruna Oliveira', 'email': 'bruna@fiap.com.br'}\n"
     ]
    }
   ],
   "source": [
    "# print(dados)\n",
    "# del dados['idade']\n",
    "# print(dados)"
   ]
  },
  {
   "attachments": {},
   "cell_type": "markdown",
   "metadata": {},
   "source": [
    "#### Exibindo os campos, valores "
   ]
  },
  {
   "cell_type": "code",
   "execution_count": 16,
   "metadata": {},
   "outputs": [
    {
     "name": "stdout",
     "output_type": "stream",
     "text": [
      "Nome:.......: Bruna Oliveira\n",
      "Idade:......: 18\n",
      "E-mail:.....: bruna@fiap.com.br\n"
     ]
    }
   ],
   "source": [
    "dados = {\n",
    "    'nome': 'Bruna Oliveira',\n",
    "    'idade': 18,\n",
    "    'email': 'bruna@fiap.com.br'\n",
    "}\n",
    "\n",
    "print(f\"Nome:.......: {dados['nome']}\")\n",
    "print(f\"Idade:......: {dados['idade']}\")\n",
    "print(f\"E-mail:.....: {dados['email']}\")"
   ]
  },
  {
   "attachments": {},
   "cell_type": "markdown",
   "metadata": {},
   "source": [
    "#### Métodos relacionados a dicionários\n",
    "O método values mostra todos os valores contidos no dicionários"
   ]
  },
  {
   "cell_type": "code",
   "execution_count": 24,
   "metadata": {},
   "outputs": [
    {
     "name": "stdout",
     "output_type": "stream",
     "text": [
      "Valores do dicionários: dict_values(['Bruna Oliveira', 18, 'bruna@fiap.com.br'])\n",
      "dict_values(['Bruna Oliveira', 18, 'bruna@fiap.com.br'])\n",
      "\n",
      "['Bruna Oliveira', 18, 'bruna@fiap.com.br']\n",
      "Bruna Oliveira\n"
     ]
    }
   ],
   "source": [
    "print(f\"Valores do dicionários: {dados.values()}\")\n",
    "lista = dados.values()\n",
    "print(lista)\n",
    "# print(lista[0]) # ERRO pois estou tratando o dicionário como lista\n",
    "print()\n",
    "\n",
    "lista = list(dados.values())\n",
    "print(lista)\n",
    "print(lista[0]) # PARA TRATAR UM ELEMENTO SEPARADAMENTE"
   ]
  },
  {
   "attachments": {},
   "cell_type": "markdown",
   "metadata": {},
   "source": [
    "#### keys()\n",
    "O métodos keys mostra o nome de todos os campos (keys)"
   ]
  },
  {
   "cell_type": "code",
   "execution_count": 17,
   "metadata": {},
   "outputs": [
    {
     "name": "stdout",
     "output_type": "stream",
     "text": [
      "Campos do dicionaário: dict_keys(['nome', 'idade', 'email'])\n"
     ]
    }
   ],
   "source": [
    "print(f\"Campos do dicionaário: {dados.keys()}\")"
   ]
  },
  {
   "attachments": {},
   "cell_type": "markdown",
   "metadata": {},
   "source": [
    "#### items()\n",
    "O método items retorna tanto a key quanto o value (campos e valores respectivamente)"
   ]
  },
  {
   "cell_type": "code",
   "execution_count": 26,
   "metadata": {},
   "outputs": [
    {
     "name": "stdout",
     "output_type": "stream",
     "text": [
      "dict_items([('nome', 'Bruna Oliveira'), ('idade', 18), ('email', 'bruna@fiap.com.br')])\n",
      "{'nome': 'Bruna Oliveira', 'idade': 18, 'email': 'bruna@fiap.com.br'}\n"
     ]
    }
   ],
   "source": [
    "print(dados.items())\n",
    "\n",
    "print(dados)"
   ]
  },
  {
   "attachments": {},
   "cell_type": "markdown",
   "metadata": {},
   "source": [
    "### Exemplos:"
   ]
  },
  {
   "cell_type": "code",
   "execution_count": 29,
   "metadata": {},
   "outputs": [
    {
     "name": "stdout",
     "output_type": "stream",
     "text": [
      "{'nome': 'Bruna Oliveira', 'idade': 18, 'email': 'bruna@fiap.com.br'}\n",
      "\n",
      "Nome:.......: Bruna Oliveira\n",
      "Idade:......: 18\n",
      "E-mail:.....: bruna@fiap.com.br\n",
      "\n",
      "O campo 'nome' tem o conteúdo 'Bruna Oliveira'\n",
      "O campo 'idade' tem o conteúdo '18'\n",
      "O campo 'email' tem o conteúdo 'bruna@fiap.com.br'\n",
      "\n",
      "nome: Bruna Oliveira\n",
      "idade: 18\n",
      "email: bruna@fiap.com.br\n",
      "endereco: Rua xxx\n"
     ]
    }
   ],
   "source": [
    "# Exibindo o dicionário bruto\n",
    "print(dados)\n",
    "\n",
    "# Exibindo elemento elemento a elemento\n",
    "print(f\"\\nNome:.......: {dados['nome']}\")\n",
    "print(f\"Idade:......: {dados['idade']}\")\n",
    "print(f\"E-mail:.....: {dados['email']}\\n\")\n",
    "\n",
    "# MELHORA A EXIBIÇÃO DOS ELEMENTOS\n",
    "for keys, values in dados.items():\n",
    "    print(f\"O campo '{keys}' tem o conteúdo '{values}'\")\n",
    "\n",
    "print()\n",
    "\n",
    "dados['endereco'] = \"Rua xxx\"\n",
    "for keys, values in dados.items():\n",
    "    print(f\"{keys}: {values}\")"
   ]
  }
 ],
 "metadata": {
  "kernelspec": {
   "display_name": "Python 3",
   "language": "python",
   "name": "python3"
  },
  "language_info": {
   "codemirror_mode": {
    "name": "ipython",
    "version": 3
   },
   "file_extension": ".py",
   "mimetype": "text/x-python",
   "name": "python",
   "nbconvert_exporter": "python",
   "pygments_lexer": "ipython3",
   "version": "3.11.4"
  },
  "orig_nbformat": 4
 },
 "nbformat": 4,
 "nbformat_minor": 2
}
