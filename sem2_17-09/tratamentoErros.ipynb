{
 "cells": [
  {
   "cell_type": "markdown",
   "metadata": {},
   "source": [
    "### Tratamento de Erros\n",
    "#### Erro de compilação:\n",
    "Ocorre quando desrespeitamos a regra de um comando."
   ]
  },
  {
   "cell_type": "code",
   "execution_count": null,
   "metadata": {},
   "outputs": [],
   "source": [
    "print(\"Bom dia a todos!\""
   ]
  },
  {
   "cell_type": "markdown",
   "metadata": {},
   "source": [
    "#### Erro de semântica:\n",
    "Também conhecido como erro de lógica, este erro não aborta o programa, mas retorna um valor inesperado."
   ]
  },
  {
   "cell_type": "code",
   "execution_count": null,
   "metadata": {},
   "outputs": [],
   "source": [
    "idade = 23\n",
    "if idade > 18:\n",
    "    print(\"Maior de idade\")\n",
    "else:\n",
    "    print(\"Menor de idade\")"
   ]
  },
  {
   "cell_type": "markdown",
   "metadata": {},
   "source": [
    "#### Erro circunstancial:\n",
    "Esto erro ocorre quando a falha é intercódigo, ou seja, o meio em que o sistema está hospedado ocasiona o erro.\n",
    "\n",
    "Exemplos:\n",
    "1. A internet caiu \n",
    "2. A energia caiu\n",
    "3. O banco de dados está aberto em modo exclusivo"
   ]
  },
  {
   "cell_type": "markdown",
   "metadata": {},
   "source": [
    "### Exemplificando e tratando os tipos erros\n",
    "Erros possíveis na divisão entre dois números, neste caso não foi convertido str para int/float"
   ]
  },
  {
   "cell_type": "code",
   "execution_count": null,
   "metadata": {},
   "outputs": [],
   "source": [
    "n1 = input(\"Digite um valor: \")\n",
    "n2 = input(\"Digite um valor: \")\n",
    "divisao = n1 / n2\n",
    "print(divisao)"
   ]
  },
  {
   "cell_type": "markdown",
   "metadata": {},
   "source": [
    "### Tratar os erros com o try\n",
    "O try permite que o código seja executado incondicionalmente, caso desperte um erro, ele cai no except:\n",
    "\n",
    "**Sintaxe:**"
   ]
  },
  {
   "cell_type": "markdown",
   "metadata": {},
   "source": []
  }
 ],
 "metadata": {
  "kernelspec": {
   "display_name": "Python 3",
   "language": "python",
   "name": "python3"
  },
  "language_info": {
   "codemirror_mode": {
    "name": "ipython",
    "version": 3
   },
   "file_extension": ".py",
   "mimetype": "text/x-python",
   "name": "python",
   "nbconvert_exporter": "python",
   "pygments_lexer": "ipython3",
   "version": "3.10.6"
  },
  "orig_nbformat": 4
 },
 "nbformat": 4,
 "nbformat_minor": 2
}
