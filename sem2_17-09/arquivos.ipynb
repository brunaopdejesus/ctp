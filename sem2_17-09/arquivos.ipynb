{
 "cells": [
  {
   "cell_type": "markdown",
   "metadata": {},
   "source": [
    "## Manipulação de Arquivos Texto\n",
    "Arquivos Texto são aqueles que consideram todos os caracteres da tabela ASCII."
   ]
  },
  {
   "cell_type": "markdown",
   "metadata": {},
   "source": [
    "### Formas de abretura de arquivos\n",
    "'w'  ==> abertura em modo escrita (write). Ele sobrepoe o arquivo original\n",
    "\n",
    "```\n",
    "arq1.txt\n",
    "Hoje é aula de arquivos\n",
    "Prof edson de Oliveira\n",
    "```\n",
    "\n",
    "hoje é dia 18-set-2023\n",
    "```\n",
    "arq1.txt - w\n",
    "hoje é dia 18-set-2023\n",
    "```\n",
    "\n",
    "'r'  ==> Abertura em modo leitura\n",
    "```\n",
    "arq1.txt - r\n",
    "TELA:\n",
    "hoje é dia 18-set-2023\n",
    "```\n",
    "\n",
    "'x'  ==> Abertura em modo escrita. Caso o arquivo já exista, ele retorna um erro.\n",
    "```\n",
    "--> arq1.txt - x\n",
    "ERRO. porque o arquivo já existe\n",
    "--> arq2.txt - x\n",
    "Consigo trabalhar com o arquivo normalmente\n",
    "```\n",
    "\n",
    "'a'  ==> (append) Abertura em modo escrita. Ele adiciona dados ao arquivo\n",
    "```\n",
    "arq1.txt - a\n",
    "\n",
    "novo conteudo\n",
    "\n",
    "arq1.txt\n",
    "-------------------------\n",
    "hoje é dia 18-set-2023\n",
    "novo conteudo\n",
    "-------------------------\n",
    "```\n",
    "\n",
    "'+'  ==> abertura em modo edição seja leitura ou escrita.\n",
    "arq1.txt - w+ | r+ \n",
    "\n",
    "### Função open()\n",
    "**Sintaxe:**\n",
    "<objeto> = open(\"<nome do arquivo>\", \"<forma de abertura>\")"
   ]
  },
  {
   "cell_type": "code",
   "execution_count": 1,
   "metadata": {},
   "outputs": [],
   "source": [
    "arquivo = open(\"arq1.txt\",\"x\")"
   ]
  },
  {
   "cell_type": "code",
   "execution_count": null,
   "metadata": {},
   "outputs": [],
   "source": []
  }
 ],
 "metadata": {
  "kernelspec": {
   "display_name": "Python 3",
   "language": "python",
   "name": "python3"
  },
  "language_info": {
   "codemirror_mode": {
    "name": "ipython",
    "version": 3
   },
   "file_extension": ".py",
   "mimetype": "text/x-python",
   "name": "python",
   "nbconvert_exporter": "python",
   "pygments_lexer": "ipython3",
   "version": "3.10.6"
  },
  "orig_nbformat": 4
 },
 "nbformat": 4,
 "nbformat_minor": 2
}
