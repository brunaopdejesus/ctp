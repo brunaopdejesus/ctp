{
 "cells": [
  {
   "cell_type": "code",
   "execution_count": 16,
   "metadata": {},
   "outputs": [],
   "source": [
    "def preencherDicionario(dicionario:dict()) -> None:\n",
    "\n",
    "    nome = input(\"Insira o nome: \")\n",
    "    idade = input(\"Insira a idade: \")\n",
    "    email = input(\"Insira o e-mail: \")\n",
    "    endereco = input(\"Insira o endreço: \")\n",
    "    dataNascimento = input(\"Insira a data de nascimento: \")\n",
    "\n",
    "    dicionario['nome'] = nome\n",
    "    dicionario['idade'] = idade \n",
    "    dicionario['email'] = email\n",
    "    dicionario['endereco'] = endereco\n",
    "    dicionario['dataNascimento'] = dataNascimento\n",
    "\n",
    "def exibirDicionario(dicionario:dict()) -> None:\n",
    "    for keys, values in dicionario.items():\n",
    "        print(f\"{keys}: {values}\")\n",
    "\n",
    "def editarDicionario(dicionario:dict()) -> None:\n",
    "    key = input(\"Insira qual chave deseja alterar: \")\n",
    "    newValue = input(\"Insira qual valor deseja inserir: \")\n",
    "\n",
    "    if key in dicionario:\n",
    "        dicionario[key] = newValue\n",
    "        print(f\"Conteúdo da chave '{key}' foi atualizado para '{newValue}'.\")\n",
    "    else:\n",
    "        print(f\"A chave '{key}' não existe no dicionário.\")"
   ]
  },
  {
   "cell_type": "code",
   "execution_count": 22,
   "metadata": {},
   "outputs": [
    {
     "name": "stdout",
     "output_type": "stream",
     "text": [
      "Dicionário preenchido com sucesso!\n",
      "{'nome': 'aa', 'idade': 'bb', 'email': 'cc', 'endereco': 'dd', 'dataNascimento': 'ee'}\n"
     ]
    }
   ],
   "source": [
    "def preencherDicionario(dicionario:dict(),\n",
    "                        nome:str,\n",
    "                        idade:int,\n",
    "                        email:str,\n",
    "                        endereco:str,\n",
    "                        dataNascimento:str) -> str:\n",
    "\n",
    "    dicionario['nome'] = nome\n",
    "    dicionario['idade'] = idade \n",
    "    dicionario['email'] = email\n",
    "    dicionario['endereco'] = endereco\n",
    "    dicionario['dataNascimento'] = dataNascimento\n",
    "\n",
    "    return \"Dicionário preenchido com sucesso!\"\n",
    "\n",
    "print(preencherDicionario(dicionario, 'aa', 'bb', 'cc', 'dd', 'ee'))"
   ]
  },
  {
   "cell_type": "code",
   "execution_count": 25,
   "metadata": {},
   "outputs": [
    {
     "name": "stdout",
     "output_type": "stream",
     "text": [
      "{'nome': 'aa', 'idade': 'bb', 'email': 'cc', 'endereco': 'dd', 'dataNascimento': 'ee'}\n"
     ]
    }
   ],
   "source": [
    "def exibirDicionario(dicionario:dict()) -> dict():\n",
    "    return dicionario\n",
    "\n",
    "print(exibirDicionario(dicionario))"
   ]
  },
  {
   "cell_type": "code",
   "execution_count": 31,
   "metadata": {},
   "outputs": [
    {
     "name": "stdout",
     "output_type": "stream",
     "text": [
      "Dicionário editado com sucesso!\n"
     ]
    }
   ],
   "source": [
    "def editarDicionario(dicionario:dict(), key:str, newValue:str) -> str:\n",
    "    if key in dicionario:\n",
    "        dicionario[key] = newValue\n",
    "        return \"Dicionário editado com sucesso!\"\n",
    "    else:\n",
    "        return \"Insira uma chave que exista no dicionário.\"\n",
    "\n",
    "print(editarDicionario(dicionario, 'nome', 'bruna'))"
   ]
  },
  {
   "cell_type": "code",
   "execution_count": 32,
   "metadata": {},
   "outputs": [],
   "source": [
    "def preencherDicionario(dicionario:dict(),\n",
    "                        nome:str,\n",
    "                        idade:int,\n",
    "                        email:str,\n",
    "                        endereco:str,\n",
    "                        dataNascimento:str) -> str:\n",
    "\n",
    "    dicionario['nome'] = nome\n",
    "    dicionario['idade'] = idade \n",
    "    dicionario['email'] = email\n",
    "    dicionario['endereco'] = endereco\n",
    "    dicionario['dataNascimento'] = dataNascimento\n",
    "\n",
    "    return \"Dicionário preenchido com sucesso!\"\n",
    "\n",
    "def exibirDicionario(dicionario:dict()) -> dict():\n",
    "    return dicionario\n",
    "\n",
    "def editarDicionario(dicionario:dict(), key:str, newValue:str) -> str:\n",
    "    if key in dicionario:\n",
    "        dicionario[key] = newValue\n",
    "        return \"Dicionário editado com sucesso!\"\n",
    "    else:\n",
    "        return \"Insira uma chave que exista no dicionário.\""
   ]
  },
  {
   "cell_type": "code",
   "execution_count": 36,
   "metadata": {},
   "outputs": [
    {
     "name": "stdout",
     "output_type": "stream",
     "text": [
      "{'nome': '', 'idade': '', 'email': '', 'endereco': '', 'dataNascimento': ''}\n",
      "\u001b[H\u001b[2J\n",
      "          0 - SAIR\n",
      "          1 - Preencher dicionário\n",
      "          2 - Exibir dicionário\n",
      "          3 - Editar dicionário\n",
      "          \n"
     ]
    },
    {
     "ename": "ValueError",
     "evalue": "invalid literal for int() with base 10: ''",
     "output_type": "error",
     "traceback": [
      "\u001b[0;31m---------------------------------------------------------------------------\u001b[0m",
      "\u001b[0;31mValueError\u001b[0m                                Traceback (most recent call last)",
      "Cell \u001b[0;32mIn[36], line 19\u001b[0m\n\u001b[1;32m     12\u001b[0m os\u001b[39m.\u001b[39msystem(\u001b[39m\"\u001b[39m\u001b[39mclear\u001b[39m\u001b[39m\"\u001b[39m)\n\u001b[1;32m     13\u001b[0m \u001b[39mprint\u001b[39m(\u001b[39m\"\"\"\u001b[39m\n\u001b[1;32m     14\u001b[0m \u001b[39m      0 - SAIR\u001b[39m\n\u001b[1;32m     15\u001b[0m \u001b[39m      1 - Preencher dicionário\u001b[39m\n\u001b[1;32m     16\u001b[0m \u001b[39m      2 - Exibir dicionário\u001b[39m\n\u001b[1;32m     17\u001b[0m \u001b[39m      3 - Editar dicionário\u001b[39m\n\u001b[1;32m     18\u001b[0m \u001b[39m      \u001b[39m\u001b[39m\"\"\"\u001b[39m)\n\u001b[0;32m---> 19\u001b[0m item \u001b[39m=\u001b[39m \u001b[39mint\u001b[39;49m(\u001b[39minput\u001b[39;49m(\u001b[39m\"\u001b[39;49m\u001b[39mEscolha um item: \u001b[39;49m\u001b[39m\"\u001b[39;49m))\n\u001b[1;32m     21\u001b[0m \u001b[39mmatch\u001b[39;00m item:\n\u001b[1;32m     22\u001b[0m     \u001b[39mcase\u001b[39;00m \u001b[39m0\u001b[39m: \n",
      "\u001b[0;31mValueError\u001b[0m: invalid literal for int() with base 10: ''"
     ]
    }
   ],
   "source": [
    "dicionario = {\n",
    "    'nome': '',\n",
    "    'idade': '',\n",
    "    'email': '',\n",
    "    'endereco': '',\n",
    "    'dataNascimento': ''\n",
    "}\n",
    "print(dicionario)\n",
    "\n",
    "import os\n",
    "while True:\n",
    "    os.system(\"clear\")\n",
    "    print(\"\"\"\n",
    "          0 - SAIR\n",
    "          1 - Preencher dicionário\n",
    "          2 - Exibir dicionário\n",
    "          3 - Editar dicionário\n",
    "          \"\"\")\n",
    "    item = int(input(\"Escolha um item: \"))\n",
    "    \n",
    "    match item:\n",
    "        case 0: \n",
    "            break\n",
    "        case 1:\n",
    "            nome = input(\"Insira o nome: \")\n",
    "            idade = input(\"Insira a idade: \")\n",
    "            email = input(\"Insira o e-mail: \")\n",
    "            endereco = input(\"Insira o endreço: \")\n",
    "            dataNascimento = input(\"Insira a data de nascimento: \")\n",
    "            print(preencherDicionario(dicionario, nome, idade, email, endereco, dataNascimento))\n",
    "        case 2:\n",
    "            print(exibirDicionario(dicionario))\n",
    "        case 2:\n",
    "            key = input(\"Insira qual chave deseja alterar: \")\n",
    "            newValue = input(\"Insira qual valor deseja inserir: \")\n",
    "            print(editarDicionario(dicionario, key, newValue))"
   ]
  },
  {
   "cell_type": "code",
   "execution_count": null,
   "metadata": {},
   "outputs": [],
   "source": []
  }
 ],
 "metadata": {
  "kernelspec": {
   "display_name": "Python 3",
   "language": "python",
   "name": "python3"
  },
  "language_info": {
   "codemirror_mode": {
    "name": "ipython",
    "version": 3
   },
   "file_extension": ".py",
   "mimetype": "text/x-python",
   "name": "python",
   "nbconvert_exporter": "python",
   "pygments_lexer": "ipython3",
   "version": "3.10.6"
  },
  "orig_nbformat": 4
 },
 "nbformat": 4,
 "nbformat_minor": 2
}
